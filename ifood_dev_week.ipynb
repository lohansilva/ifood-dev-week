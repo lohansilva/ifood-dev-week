{
  "nbformat": 4,
  "nbformat_minor": 0,
  "metadata": {
    "colab": {
      "provenance": [],
      "collapsed_sections": [
        "VJ9ncXpVjIz9"
      ],
      "include_colab_link": true
    },
    "kernelspec": {
      "name": "python3",
      "display_name": "Python 3"
    },
    "language_info": {
      "name": "python"
    }
  },
  "cells": [
    {
      "cell_type": "markdown",
      "metadata": {
        "id": "view-in-github",
        "colab_type": "text"
      },
      "source": [
        "<a href=\"https://colab.research.google.com/github/lohansilva/ifood-dev-week/blob/main/ifood_dev_week.ipynb\" target=\"_parent\"><img src=\"https://colab.research.google.com/assets/colab-badge.svg\" alt=\"Open In Colab\"/></a>"
      ]
    },
    {
      "cell_type": "markdown",
      "source": [
        "# iFood Dev Week\n",
        "\n",
        "Saiba mais sobre essa semana incrível no Artigo [Desvendando a iFood Dev Week](https://www.dio.me/articles/desvendando-a-ifood-dev-week)."
      ],
      "metadata": {
        "id": "oPigZArHe3d_"
      }
    },
    {
      "cell_type": "markdown",
      "source": [
        "## Dia 1: Conheça o Google Colab e o Projeto Desta Dev Week\n",
        "\n",
        "Vamos mergulhar no Google Colab, aprendendo como ele pode ser usado para automatizar tarefas cotidianas, principalmente através da manipulação de planilhas. Além disso, você aprenderá na prática o conceito do Net Promoter Score (NPS), uma métrica fundamental para entender a satisfação do cliente."
      ],
      "metadata": {
        "id": "VJ9ncXpVjIz9"
      }
    },
    {
      "cell_type": "code",
      "source": [
        "# Importar bibliotecas\n",
        "import gdown\n",
        "import pandas as pd\n",
        "\n",
        "# Baixar o arquivo CSV do Google Drive e carregar seus dados em um DataFrame pandas\n",
        "file_id = '11yeewp-D_QQmPcAmxQvWf0HJa1YDtrJA'\n",
        "gdown.download(f'https://drive.google.com/uc?id={file_id}', 'feedbacks.csv')"
      ],
      "metadata": {
        "id": "IfI2i-4QaI2C",
        "outputId": "7808cd62-81e1-46cd-86f1-6b78890ee108",
        "colab": {
          "base_uri": "https://localhost:8080/",
          "height": 105
        }
      },
      "execution_count": 6,
      "outputs": [
        {
          "output_type": "stream",
          "name": "stderr",
          "text": [
            "Downloading...\n",
            "From: https://drive.google.com/uc?id=11yeewp-D_QQmPcAmxQvWf0HJa1YDtrJA\n",
            "To: /content/feedbacks.csv\n",
            "100%|██████████| 299/299 [00:00<00:00, 510kB/s]\n"
          ]
        },
        {
          "output_type": "execute_result",
          "data": {
            "text/plain": [
              "'feedbacks.csv'"
            ],
            "application/vnd.google.colaboratory.intrinsic+json": {
              "type": "string"
            }
          },
          "metadata": {},
          "execution_count": 6
        }
      ]
    },
    {
      "cell_type": "code",
      "execution_count": 7,
      "metadata": {
        "id": "pQo2iXQLPjnR"
      },
      "outputs": [],
      "source": [
        "# Leitura do arquivo\n",
        "dados = pd.read_csv('/content/feedbacks.csv', delimiter=';')"
      ]
    },
    {
      "cell_type": "code",
      "source": [
        "# Versão 1: Implementar a lógica de NPS em comandos simples e sequenciais (imperativo)\n",
        "detratores = 0\n",
        "promotores = 0\n",
        "\n",
        "notas = dados['nota']\n",
        "for nota in notas:\n",
        "  if nota >=9:\n",
        "    promotores += 1\n",
        "  elif nota <= 6:\n",
        "    detratores += 1\n",
        "\n",
        "nps = (promotores - detratores) / len(notas) * 100\n",
        "print(nps)"
      ],
      "metadata": {
        "id": "9wpbezjRAIu8",
        "outputId": "0ba9350b-2e05-4fbf-97a3-14328ea2938c",
        "colab": {
          "base_uri": "https://localhost:8080/"
        }
      },
      "execution_count": 8,
      "outputs": [
        {
          "output_type": "stream",
          "name": "stdout",
          "text": [
            "40.0\n"
          ]
        }
      ]
    },
    {
      "cell_type": "code",
      "source": [
        "# Versão 2: Evoluir a implementação para separar melhor as responsabilidades (funcional)\n",
        "def calcular_nps(notas):\n",
        "  detratores = notas.apply(lambda nota: nota <= 6).sum()\n",
        "  promotores = notas[notas >= 9].count()\n",
        "\n",
        "  return nps\n",
        "\n",
        "notas = dados['nota']\n",
        "print(calcular_nps(notas))"
      ],
      "metadata": {
        "id": "qbosF3YXDpFi",
        "outputId": "08b4a01f-3421-4d4c-db6c-0ccb0fa3b9c9",
        "colab": {
          "base_uri": "https://localhost:8080/"
        }
      },
      "execution_count": 12,
      "outputs": [
        {
          "output_type": "stream",
          "name": "stdout",
          "text": [
            "40.0\n"
          ]
        }
      ]
    },
    {
      "cell_type": "code",
      "source": [
        "# Versão 3: Abstrair o problema usando classes e objetos (orientação a objetos)\n",
        "class Feedback:\n",
        "  def __init__(self, nota, comentario):\n",
        "    self.nota = nota\n",
        "    self.comentario = comentario\n",
        "\n",
        "class AnalisadorFeedbacks:\n",
        "  def __init__(self, feedbacks):\n",
        "    self.feedbacks = feedbacks\n",
        "\n",
        "  def calcular_nps(self):\n",
        "    detratores = sum([1 for feedback in self.feedbacks if feedback.nota <= 6])\n",
        "    promotores = sum([1 for feedback in self.feedbacks if feedback.nota >= 9])\n",
        "\n",
        "    nps = (promotores - detratores) / len(self.feedbacks) * 100\n",
        "    return nps\n",
        "\n",
        "\n",
        "# feedbacks = [Feedback(linha['nota'], linha['comentario']) for i, linha in dados.iterrows()]\n",
        "feedbacks = dados.apply(lambda linha: Feedback(linha['nota'], linha['comentario']),axis=1)\n",
        "\n",
        "\n",
        "analisador = AnalisadorFeedbacks(feedbacks)\n",
        "nps = analisador.calcular_nps()\n",
        "\n",
        "print(nps)\n"
      ],
      "metadata": {
        "id": "aakWgQrVF8XI",
        "outputId": "41157520-23c7-4eb3-df9d-fa2eaf9e2a97",
        "colab": {
          "base_uri": "https://localhost:8080/"
        }
      },
      "execution_count": 14,
      "outputs": [
        {
          "output_type": "stream",
          "name": "stdout",
          "text": [
            "40.0\n"
          ]
        }
      ]
    }
  ]
}